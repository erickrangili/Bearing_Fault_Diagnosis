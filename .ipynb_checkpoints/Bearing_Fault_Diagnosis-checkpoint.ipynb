{
 "cells": [
  {
   "cell_type": "code",
   "execution_count": 2,
   "metadata": {},
   "outputs": [],
   "source": [
    "import scipy.io #to operate on the .mat files\n",
    "import seaborn as sns\n",
    "import numpy as np\n",
    "import pandas as pd\n",
    "import os\n",
    "import matplotlib.pyplot as plt"
   ]
  },
  {
   "cell_type": "code",
   "execution_count": 3,
   "metadata": {},
   "outputs": [
    {
     "name": "stdout",
     "output_type": "stream",
     "text": [
      "0_Load_48_KHZ\\14_BF.mat\n",
      "0_Load_48_KHZ\\14_IR.mat\n",
      "0_Load_48_KHZ\\14_OR1.mat\n",
      "0_Load_48_KHZ\\21_BF.mat\n",
      "0_Load_48_KHZ\\21_IR.mat\n",
      "0_Load_48_KHZ\\21_OR1.mat\n",
      "0_Load_48_KHZ\\21_OR2.mat\n",
      "0_Load_48_KHZ\\21_OR3.mat\n",
      "0_Load_48_KHZ\\7_BF.mat\n",
      "0_Load_48_KHZ\\7_IR.mat\n",
      "0_Load_48_KHZ\\7_OR1.mat\n",
      "0_Load_48_KHZ\\7_OR2.mat\n",
      "0_Load_48_KHZ\\7_OR3.mat\n",
      "0_Load_48_KHZ\\N.mat\n"
     ]
    }
   ],
   "source": [
    "#Get the path for each fault data\n",
    "for root, dirs, files in os.walk(\"0_Load_48_KHZ\",topdown=False):\n",
    "    for file_name in files:\n",
    "        path = os.path.join(root,file_name)\n",
    "        print(path)\n"
   ]
  },
  {
   "cell_type": "code",
   "execution_count": 4,
   "metadata": {},
   "outputs": [
    {
     "data": {
      "text/plain": [
       "dict_items([('__header__', b'MATLAB 5.0 MAT-file, Platform: PCWIN, Created on: Mon Jan 31 15:29:56 2000'), ('__version__', '1.0'), ('__globals__', []), ('X189_DE_time', array([[ 0.03984554],\n",
       "       [ 0.08970462],\n",
       "       [ 0.13664308],\n",
       "       ...,\n",
       "       [ 0.00897046],\n",
       "       [-0.01001354],\n",
       "       [-0.01668923]])), ('X189_FE_time', array([[ 0.03924182],\n",
       "       [ 0.08834545],\n",
       "       [ 0.13457273],\n",
       "       ...,\n",
       "       [ 0.00883455],\n",
       "       [-0.00986182],\n",
       "       [-0.01643636]])), ('X189RPM', array([[1797]], dtype=uint16))])"
      ]
     },
     "execution_count": 4,
     "metadata": {},
     "output_type": "execute_result"
    }
   ],
   "source": [
    "#open the .mat file\n",
    "path = r'0_Load_48_KHZ\\14_BF.mat'\n",
    "mat = scipy.io.loadmat(path) #dict\n",
    "mat.items()"
   ]
  },
  {
   "cell_type": "code",
   "execution_count": 5,
   "metadata": {},
   "outputs": [
    {
     "data": {
      "text/plain": [
       "['__header__',\n",
       " '__version__',\n",
       " '__globals__',\n",
       " 'X189_DE_time',\n",
       " 'X189_FE_time',\n",
       " 'X189RPM']"
      ]
     },
     "execution_count": 5,
     "metadata": {},
     "output_type": "execute_result"
    }
   ],
   "source": [
    "list(mat.keys())"
   ]
  },
  {
   "cell_type": "code",
   "execution_count": 8,
   "metadata": {},
   "outputs": [],
   "source": [
    "#Access the third element\n",
    "key_name = list(mat.keys())[3]"
   ]
  },
  {
   "cell_type": "code",
   "execution_count": 9,
   "metadata": {},
   "outputs": [],
   "source": [
    "#Get values from dict\n",
    "DE_data = mat.get(key_name)"
   ]
  },
  {
   "cell_type": "code",
   "execution_count": 10,
   "metadata": {},
   "outputs": [],
   "source": [
    "#labbelling the faults\n",
    "fault = np.full((len(DE_data),1),file_name[:-4])"
   ]
  },
  {
   "cell_type": "code",
   "execution_count": 16,
   "metadata": {},
   "outputs": [],
   "source": [
    "#Create the dataframe\n",
    "df_temp = pd.DataFrame({'DE_data':np.ravel(DE_data) ,'fault':np.ravel(fault)})"
   ]
  },
  {
   "cell_type": "code",
   "execution_count": 17,
   "metadata": {},
   "outputs": [
    {
     "data": {
      "text/html": [
       "<div>\n",
       "<style scoped>\n",
       "    .dataframe tbody tr th:only-of-type {\n",
       "        vertical-align: middle;\n",
       "    }\n",
       "\n",
       "    .dataframe tbody tr th {\n",
       "        vertical-align: top;\n",
       "    }\n",
       "\n",
       "    .dataframe thead th {\n",
       "        text-align: right;\n",
       "    }\n",
       "</style>\n",
       "<table border=\"1\" class=\"dataframe\">\n",
       "  <thead>\n",
       "    <tr style=\"text-align: right;\">\n",
       "      <th></th>\n",
       "      <th>DE_data</th>\n",
       "      <th>fault</th>\n",
       "    </tr>\n",
       "  </thead>\n",
       "  <tbody>\n",
       "    <tr>\n",
       "      <th>0</th>\n",
       "      <td>0.039846</td>\n",
       "      <td>N</td>\n",
       "    </tr>\n",
       "    <tr>\n",
       "      <th>1</th>\n",
       "      <td>0.089705</td>\n",
       "      <td>N</td>\n",
       "    </tr>\n",
       "    <tr>\n",
       "      <th>2</th>\n",
       "      <td>0.136643</td>\n",
       "      <td>N</td>\n",
       "    </tr>\n",
       "    <tr>\n",
       "      <th>3</th>\n",
       "      <td>0.177532</td>\n",
       "      <td>N</td>\n",
       "    </tr>\n",
       "    <tr>\n",
       "      <th>4</th>\n",
       "      <td>0.205903</td>\n",
       "      <td>N</td>\n",
       "    </tr>\n",
       "    <tr>\n",
       "      <th>...</th>\n",
       "      <td>...</td>\n",
       "      <td>...</td>\n",
       "    </tr>\n",
       "    <tr>\n",
       "      <th>249141</th>\n",
       "      <td>0.045895</td>\n",
       "      <td>N</td>\n",
       "    </tr>\n",
       "    <tr>\n",
       "      <th>249142</th>\n",
       "      <td>0.028163</td>\n",
       "      <td>N</td>\n",
       "    </tr>\n",
       "    <tr>\n",
       "      <th>249143</th>\n",
       "      <td>0.008970</td>\n",
       "      <td>N</td>\n",
       "    </tr>\n",
       "    <tr>\n",
       "      <th>249144</th>\n",
       "      <td>-0.010014</td>\n",
       "      <td>N</td>\n",
       "    </tr>\n",
       "    <tr>\n",
       "      <th>249145</th>\n",
       "      <td>-0.016689</td>\n",
       "      <td>N</td>\n",
       "    </tr>\n",
       "  </tbody>\n",
       "</table>\n",
       "<p>249146 rows × 2 columns</p>\n",
       "</div>"
      ],
      "text/plain": [
       "         DE_data fault\n",
       "0       0.039846     N\n",
       "1       0.089705     N\n",
       "2       0.136643     N\n",
       "3       0.177532     N\n",
       "4       0.205903     N\n",
       "...          ...   ...\n",
       "249141  0.045895     N\n",
       "249142  0.028163     N\n",
       "249143  0.008970     N\n",
       "249144 -0.010014     N\n",
       "249145 -0.016689     N\n",
       "\n",
       "[249146 rows x 2 columns]"
      ]
     },
     "execution_count": 17,
     "metadata": {},
     "output_type": "execute_result"
    }
   ],
   "source": [
    "df_temp"
   ]
  },
  {
   "cell_type": "code",
   "execution_count": 18,
   "metadata": {},
   "outputs": [
    {
     "data": {
      "image/png": "[encoded data removed]",
      "text/plain": [
       "<Figure size 720x216 with 1 Axes>"
      ]
     },
     "metadata": {
      "needs_background": "light"
     },
     "output_type": "display_data"
    }
   ],
   "source": [
    "#plot the first column\n",
    "plt.figure(figsize=(10,3))\n",
    "plt.plot(df_temp.iloc[:,0])\n",
    "plt.show()"
   ]
  },
  {
   "cell_type": "code",
   "execution_count": null,
   "metadata": {},
   "outputs": [],
   "source": [
    "#For the entire fault condition\n",
    "#Get the path for each fault data\n",
    "df = pd.DataFrame(columns =[\"DE_data\",\"Faults\"]) #Dataframe\n",
    "\n",
    "for root, dirs, files in os.walk(\"0_Load_48_KHZ\",topdown=False):\n",
    "    for file_name in files:\n",
    "        path = os.path.join(root,file_name)\n",
    "        print(path)\n",
    "        \n",
    "        mat = scipy.io.loadmat(path) #dict\n",
    "        key_name = list(mat.keys())[3]\n",
    "        DE_data = mat.get(key_name)\n",
    "        fault = np.full((len(DE_data),1),file_name[:-4])\n",
    "        \n",
    "        df_temp = pd.DataFrame({'DE_data':np.ravel(DE_data) ,'fault':np.ravel(fault)})\n",
    "        \n",
    "        df = pd.concat([df,df_temp],axis=0)#add each fault to the df\n",
    "        \n",
    "        print(df['fault']).unique()\n",
    "        \n",
    "df.to_csv('all_faults.csv',index=False) #converts to csv and saves   "
   ]
  },
  {
   "cell_type": "code",
   "execution_count": null,
   "metadata": {},
   "outputs": [],
   "source": []
  },
  {
   "cell_type": "code",
   "execution_count": null,
   "metadata": {},
   "outputs": [],
   "source": []
  },
  {
   "cell_type": "code",
   "execution_count": null,
   "metadata": {},
   "outputs": [],
   "source": []
  },
  {
   "cell_type": "code",
   "execution_count": null,
   "metadata": {},
   "outputs": [],
   "source": []
  },
  {
   "cell_type": "code",
   "execution_count": null,
   "metadata": {},
   "outputs": [],
   "source": []
  },
  {
   "cell_type": "code",
   "execution_count": null,
   "metadata": {},
   "outputs": [],
   "source": []
  },
  {
   "cell_type": "code",
   "execution_count": null,
   "metadata": {},
   "outputs": [],
   "source": []
  },
  {
   "cell_type": "code",
   "execution_count": null,
   "metadata": {},
   "outputs": [],
   "source": []
  },
  {
   "cell_type": "code",
   "execution_count": null,
   "metadata": {},
   "outputs": [],
   "source": []
  }
 ],
 "metadata": {
  "kernelspec": {
   "display_name": "Python 3",
   "language": "python",
   "name": "python3"
  },
  "language_info": {
   "codemirror_mode": {
    "name": "ipython",
    "version": 3
   },
   "file_extension": ".py",
   "mimetype": "text/x-python",
   "name": "python",
   "nbconvert_exporter": "python",
   "pygments_lexer": "ipython3",
   "version": "3.7.3"
  }
 },
 "nbformat": 4,
 "nbformat_minor": 2
}
